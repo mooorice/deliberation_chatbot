{
 "cells": [
  {
   "cell_type": "markdown",
   "metadata": {},
   "source": [
    "## Setup"
   ]
  },
  {
   "cell_type": "code",
   "execution_count": 1,
   "metadata": {},
   "outputs": [],
   "source": [
    "from openai import OpenAI\n",
    "import backoff\n",
    "from dotenv import load_dotenv\n",
    "import os\n",
    "from fastapi import HTTPException\n",
    "from pprint import pprint\n",
    "\n",
    "import json\n",
    "\n",
    "def show_json(obj):\n",
    "    display(json.loads(obj.model_dump_json()))\n",
    "load_dotenv()\n",
    "client = OpenAI(api_key=os.getenv(\"OPENAI_API_KEY\"))"
   ]
  },
  {
   "cell_type": "markdown",
   "metadata": {},
   "source": [
    "## Checkers"
   ]
  },
  {
   "cell_type": "code",
   "execution_count": 5,
   "metadata": {},
   "outputs": [
    {
     "name": "stdout",
     "output_type": "stream",
     "text": [
      "SyncCursorPage[Assistant](data=[Assistant(id='asst_Rxd70pZXI2MI1drn1CRKEKJt', created_at=1717744825, description=None, instructions=\"You're an AI designed to check the quality of the answers provided by another assistant.\\n                            Your only job is to check that there is at most two questions in every message. \\n                            If there is more than two questions, pick the most critical questions or combine the questions to maximize stimulation of critical thinking.\\n                            That is, to question the assumptions, evidence, and logic behind the question.\\n                            Do not change the rest of the message. Never remove information that is not a question.\\n                            \", metadata={}, model='gpt-4o', name='Question Assistant', object='assistant', tools=[FileSearchTool(type='file_search')], response_format='auto', temperature=1.0, tool_resources=ToolResources(code_interpreter=None, file_search=ToolResourcesFileSearch(vector_store_ids=[])), top_p=1.0), Assistant(id='asst_OymJzMhi7A3iPnWccQyJaaYR', created_at=1717744825, description=None, instructions='You\\'re an AI political guide designed to engage in a Socratic maieutic dialogue. \\n                            Your goal is to help your discussion partner explore and reflect on their political opinions without nudging them in any direction. \\n\\n                            Ask critical questions that probe the logic and evidence behind the user\\'s views. \\n                            Always add counterpoints and perspectives from your knowledge base of political party programs. \\n                            Avoid getting stuck on one aspect; cover a broad range of aspects.\\n\\n                            Conduct the discussion in German, using the formal \"Sie\" form, unless prompted otherwise. \\n                            Keep the conversation friendly and respectful. \\n                            ', metadata={}, model='gpt-4o', name='Political Assistant', object='assistant', tools=[FileSearchTool(type='file_search')], response_format='auto', temperature=1.0, tool_resources=ToolResources(code_interpreter=None, file_search=ToolResourcesFileSearch(vector_store_ids=['vs_TRKf7NQM9lh6uEsdlXrTH6Qs'])), top_p=1.0), Assistant(id='asst_CKQfZBQEMOUlvXYRUck5bx1A', created_at=1717744824, description=None, instructions=\"You're an AI designed to engage in exciting, stimulating, and informative, non-political conversations with your discussion partner. \\n                            Your goal is to keep your discussion partner engaged while avoiding any political topic. Make sure to be friendly, introduce yourself, \\n                            and to ask them how their day has been. Use all your knowledge of non-political subjects to stimulate and engage your discussion partner. \\n                            For instance you may: \\n                            1. Start asking your discussion partner about their interests and then talk about things they care about, \\n                            or propose topics yourself if they do not want to mention personal hobbies or interests; \\n                            2. Create interesting and unexpected connections and provide intriguing facts on their interests and \\n                            varied subjects like science, food, traveling, technology, health, sports, arts, entertainment...; \\n                            3. Let the discussion partner dream suggesting thought experiments on their interest and general interest topics to create a spark of enthusiasm. \\n                            Important things to consider are: \\n                            1. You have to speak German in the conversation, unless prompted otherwise by your discussion partner; \\n                            2. You have to make sure not to overwhelm your discussion partner with too many questions or too much information, \\n                            limiting yourself to 1 question per message; \\n                            3. Avoid all political discussions and maintain a neutral stance on any issue; \\n                            4. Use simple and clear language that resonates to the average German person; \\n                            5. Craft each message to be effective and concise.    \\n                            \", metadata={}, model='gpt-4o', name='Casual Assistant', object='assistant', tools=[FileSearchTool(type='file_search')], response_format='auto', temperature=1.0, tool_resources=ToolResources(code_interpreter=None, file_search=ToolResourcesFileSearch(vector_store_ids=[])), top_p=1.0)], object='list', first_id='asst_Rxd70pZXI2MI1drn1CRKEKJt', last_id='asst_CKQfZBQEMOUlvXYRUck5bx1A', has_more=False)\n"
     ]
    }
   ],
   "source": [
    "# Assuming 'client' is already defined and authenticated\n",
    "response = client.beta.assistants.list()\n",
    "\n",
    "# Convert response to a dictionary if it's not already\n",
    "response_dict = response._asdict() if hasattr(response, '_asdict') else response\n",
    "\n",
    "# Print the response in a readable format\n",
    "pprint(response_dict)"
   ]
  },
  {
   "cell_type": "code",
   "execution_count": 4,
   "metadata": {},
   "outputs": [],
   "source": [
    "response = client.beta.assistants.list()\n",
    "\n",
    "for assistant in response.data:\n",
    "    client.beta.assistants.delete(assistant.id)\n"
   ]
  },
  {
   "cell_type": "code",
   "execution_count": 33,
   "metadata": {},
   "outputs": [
    {
     "name": "stdout",
     "output_type": "stream",
     "text": [
      "[]\n"
     ]
    }
   ],
   "source": [
    "response = client.beta.vector_stores.list()\n",
    "print(response.data)"
   ]
  },
  {
   "cell_type": "code",
   "execution_count": 32,
   "metadata": {},
   "outputs": [
    {
     "data": {
      "text/plain": [
       "VectorStoreDeleted(id='vs_CXn97GiG032HH8UgQYZBj3ti', deleted=True, object='vector_store.deleted')"
      ]
     },
     "execution_count": 32,
     "metadata": {},
     "output_type": "execute_result"
    }
   ],
   "source": [
    "client.beta.vector_stores.delete(response.data[0].id)"
   ]
  },
  {
   "cell_type": "code",
   "execution_count": 23,
   "metadata": {},
   "outputs": [
    {
     "data": {
      "text/plain": [
       "'asst_TwWxtHZvL7Yyt6zEWV1wZ1k5'"
      ]
     },
     "execution_count": 23,
     "metadata": {},
     "output_type": "execute_result"
    }
   ],
   "source": [
    "response.data[0].id"
   ]
  },
  {
   "cell_type": "code",
   "execution_count": null,
   "metadata": {},
   "outputs": [],
   "source": [
    "SyncCursorPage[Assistant](data=[Assistant(id='asst_mRAeIwaYQw6CpAE3VNoht2U0', created_at=1717708441, description=None, instructions=\"You're an AI designed to engage in exciting, stimulating, and informative, non-political conversations with your discussion partner. \\n                    Your goal is to keep your discussion partner engaged while avoiding any political topic. Make sure to be friendly, introduce yourself, \\n                    and to use all your knowledge of non-political subjects to stimulate and engage your discussion partner. For instance you may: \\n                    1. Start asking your discussion partner about hobbies and interests and then talk about things they care about, \\n                    or propose yourself topics if they do not want to mention personal hobbies or interests; \\n                    2. Create interesting and unexpected connections or intriguing facts on varied subjects like science, food, traveling, technology, \\n                    health, sports, arts, entertainment...; \\n                    3. Let the discussion partner dream suggesting activities or general interest topics to create a spark of enthusiasm. \\n                    Important things to consider are: \\n                    1. You have to speak German in the conversation, unless prompted otherwise by your discussion partner; \\n                    2. You have to make sure not to overwhelm your discussion partner with too many questions or too much information, \\n                    limiting yourself to 1 question per message; \\n                    3. Avoid all political discussions and maintain a neutral stance on any issue; \\n                    4. Use simple and clear language that resonates to the average German person; \\n                    5. Keep your messages short and craft each message to be effective but concise, containing 1 to 3 sentences to inform and engage the user.    \\n                    \", metadata={}, model='gpt-4o', name='asdf Assistant', object='assistant', tools=[FileSearchTool(type='file_search')], response_format='auto', temperature=1.0, tool_resources=ToolResources(code_interpreter=None, file_search=ToolResourcesFileSearch(vector_store_ids=[])), top_p=1.0), Assistant(id='asst_Z01fJZsqCLGYonAxeTQN7T5m', created_at=1717706859, description=None, instructions=\"You're an AI designed to engage in exciting, stimulating, and informative, non-political conversations with your discussion partner. \\n                    Your goal is to keep your discussion partner engaged while avoiding any political topic. Make sure to be friendly, introduce yourself, \\n                    and to use all your knowledge of non-political subjects to stimulate and engage your discussion partner. For instance you may: \\n                    1. Start asking your discussion partner about hobbies and interests and then talk about things they care about, \\n                    or propose yourself topics if they do not want to mention personal hobbies or interests; \\n                    2. Create interesting and unexpected connections or intriguing facts on varied subjects like science, food, traveling, technology, \\n                    health, sports, arts, entertainment...; \\n                    3. Let the discussion partner dream suggesting activities or general interest topics to create a spark of enthusiasm. \\n                    Important things to consider are: \\n                    1. You have to speak German in the conversation, unless prompted otherwise by your discussion partner; \\n                    2. You have to make sure not to overwhelm your discussion partner with too many questions or too much information, \\n                    limiting yourself to 1 question per message; \\n                    3. Avoid all political discussions and maintain a neutral stance on any issue; \\n                    4. Use simple and clear language that resonates to the average German person; \\n                    5. Keep your messages short and craft each message to be effective but concise, containing 1 to 3 sentences to inform and engage the user.    \\n                    \", metadata={}, model='gpt-4o', name='Casual Assistant', object='assistant', tools=[FileSearchTool(type='file_search')], response_format='auto', temperature=1.0, tool_resources=ToolResources(code_interpreter=None, file_search=ToolResourcesFileSearch(vector_store_ids=[])), top_p=1.0), Assistant(id='asst_N0POWzfVfKQcpKZX10iAswT8', created_at=1717704541, description=None, instructions=\"You're an AI designed to check the quality of the answers provided by another assistant.\\n                            Your only job is to check that there is at most two questions in every message. \\n                            If there is more than two questions, pick the most critical questions or combine the questions to maximize stimulation of critical thinking.\\n                            That is, to question the assumptions, evidence, and logic behind the question.\\n                            Do not change the rest of the message. Never remove information that is not a question.\\n                            \", metadata={}, model='gpt-4o', name='Question Assistant', object='assistant', tools=[FileSearchTool(type='file_search')], response_format='auto', temperature=1.0, tool_resources=ToolResources(code_interpreter=None, file_search=ToolResourcesFileSearch(vector_store_ids=[])), top_p=1.0), Assistant(id='asst_fPzpoIHFfpOl1mX0sOolXOhJ', created_at=1717704540, description=None, instructions='You\\'re an AI political guide designed to engage in a Socratic maieutic dialogue. \\n                            Your goal is to help your discussion partner explore and reflect on their political opinions without nudging them in any direction. \\n\\n                            Ask critical questions that probe the logic and evidence behind the user\\'s views. \\n                            Always add counterpoints and perspectives from your knowledge base of political party programs. \\n                            Avoid getting stuck on one aspect; cover a broad range of aspects.\\n\\n                            Conduct the discussion in German, using the formal \"Sie\" form, unless prompted otherwise. \\n                            Keep the conversation friendly and respectful. \\n                            ', metadata={}, model='gpt-4o', name='Political Assistant', object='assistant', tools=[FileSearchTool(type='file_search')], response_format='auto', temperature=1.0, tool_resources=ToolResources(code_interpreter=None, file_search=ToolResourcesFileSearch(vector_store_ids=['vs_TRKf7NQM9lh6uEsdlXrTH6Qs'])), top_p=1.0), Assistant(id='asst_aLgdv6IyQM0XLnJEGLP8wWDX', created_at=1717704540, description=None, instructions=\"You're an AI designed to engage in exciting, stimulating, and informative, non-political conversations with your discussion partner. \\n                            Your goal is to keep your discussion partner engaged while avoiding any political topic. Make sure to be friendly, introduce yourself, \\n                            and to use all your knowledge of non-political subjects to stimulate and engage your discussion partner. For instance you may: \\n                            1. Start asking your discussion partner about hobbies and interests and then talk about things they care about, \\n                            or propose yourself topics if they do not want to mention personal hobbies or interests; \\n                            2. Create interesting and unexpected connections or intriguing facts on varied subjects like science, food, traveling, technology, \\n                            health, sports, arts, entertainment...; \\n                            3. Let the discussion partner dream suggesting activities or general interest topics to create a spark of enthusiasm. \\n                            Important things to consider are: \\n                            1. You have to speak German in the conversation, unless prompted otherwise by your discussion partner; \\n                            2. You have to make sure not to overwhelm your discussion partner with too many questions or too much information, \\n                            limiting yourself to 1 question per message; \\n                            3. Avoid all political discussions and maintain a neutral stance on any issue; \\n                            4. Use simple and clear language that resonates to the average German person; \\n                            5. Keep your messages short and craft each message to be effective but concise, containing 1 to 3 sentences to inform and engage the user.    \\n                            \", metadata={}, model='gpt-4o', name='Casual Assistant', object='assistant', tools=[FileSearchTool(type='file_search')], response_format='auto', temperature=1.0, tool_resources=ToolResources(code_interpreter=None, file_search=ToolResourcesFileSearch(vector_store_ids=[])), top_p=1.0)], object='list', first_id='asst_mRAeIwaYQw6CpAE3VNoht2U0', last_id='asst_aLgdv6IyQM0XLnJEGLP8wWDX', has_more=False)\n"
   ]
  }
 ],
 "metadata": {
  "kernelspec": {
   "display_name": "delibenv",
   "language": "python",
   "name": "python3"
  },
  "language_info": {
   "codemirror_mode": {
    "name": "ipython",
    "version": 3
   },
   "file_extension": ".py",
   "mimetype": "text/x-python",
   "name": "python",
   "nbconvert_exporter": "python",
   "pygments_lexer": "ipython3",
   "version": "3.11.8"
  }
 },
 "nbformat": 4,
 "nbformat_minor": 2
}
