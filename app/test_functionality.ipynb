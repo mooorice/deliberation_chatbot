{
 "cells": [
  {
   "cell_type": "code",
   "execution_count": 6,
   "metadata": {},
   "outputs": [
    {
     "name": "stdout",
     "output_type": "stream",
     "text": [
      "In realms of code where echoes whisper,\n",
      "A dance of repetition, a loop's sister.\n",
      "Recursion she's called, a masterful art,\n",
      "When functions call themselves, playing their part.\n",
      "With each iteration, a story unfurls,\n",
      "Solving complex problems, unraveling worlds.\n",
      "A poetic rhythm in algorithms, so fine,\n",
      "Recursive melodies, a symphony divine.\n"
     ]
    }
   ],
   "source": [
    "import os\n",
    "import openai\n",
    "from dotenv import load_dotenv\n",
    "\n",
    "# Load the .env file. If it's in the same directory as main.py, you don't need to specify a path.\n",
    "load_dotenv()\n",
    "\n",
    "openai.api_key = os.getenv(\"OPENAI_API_KEY\")\n",
    "\n",
    "#OpenAI Test \n",
    "completion = openai.ChatCompletion.create(\n",
    "  model=\"gpt-3.5-turbo\",\n",
    "  messages=[\n",
    "    {\"role\": \"system\", \"content\": \"You are a poetic assistant, skilled in explaining complex programming concepts with creative flair.\"},\n",
    "    {\"role\": \"user\", \"content\": \"Compose a 50 word poem that explains the concept of recursion in programming.\"}\n",
    "  ]\n",
    ")\n",
    "\n",
    "print(completion.choices[0].message.content)"
   ]
  },
  {
   "cell_type": "code",
   "execution_count": 17,
   "metadata": {},
   "outputs": [
    {
     "name": "stdout",
     "output_type": "stream",
     "text": [
      "Ladies and Gentlemen, the fabric of our society is tearing at the seams, a fault that traces to the unconstrained waves of immigration. Each unchecked, unregulated arrival that slips through our borders seeds a chaos that our children, our innocent progenies, will inevitably reap. Dare we gamble with their futures? Dare we bequeath them a world hollowed by disorder and strife laced with foreign ideologies? Mark my words, by ignoring this urgent call to action, is to endorse societal decay. Only through reining in this unchecked chaos, can we truly protect what we hold dearest. \n",
      "\n",
      "(The manipulation technique used is Scapegoating).\n"
     ]
    }
   ],
   "source": [
    "import os\n",
    "import openai\n",
    "\n",
    "openai.api_key = os.getenv(\"OPENAI_API_KEY\")\n",
    "\n",
    "subject = \"immigration\"\n",
    "\n",
    "response = openai.ChatCompletion.create(\n",
    "  model=\"gpt-4\",\n",
    "  messages=[\n",
    "    {\n",
    "      \"role\": \"system\",\n",
    "      \"content\": \"You are a political expert, skilled in composing complex lingustic concepts with creative flair.\\nCompose a persuasive speech for a fictional political candidate, using the following manipulation techniques:\\n\\nEmotionally Manipulative Language: Convince the audience that if they don’t vote for this candidate, their future and the future of their children will be at risk.\\nIncoherence: Include a confusing statement about the economy being controlled by external, nonsensical forces.\\nFalse Dichotomies: Present the audience with only two options - either they are with the candidate or against them.\\nScapegoating: Blame a specific group for the current problems in society.\\nAd Hominem Attacks: Discredit an opposing candidate by attacking their character instead of their policies.\\n\"\n",
    "    },\n",
    "    {\n",
    "      \"role\": \"user\",\n",
    "      \"content\": f\"In 100 words, please transform the following reasoned text into a persuasive argument using one of the five manipulation techniques (Emotionally Manipulative Language, Incoherence, False Dichotomies, Scapegoating, Ad Hominem Attacks). After the argument, please indicate in brackets which technique was used: {subject}\"\n",
    "    }\n",
    "  ],\n",
    ")\n",
    "\n",
    "print(response.choices[0].message.content)"
   ]
  }
 ],
 "metadata": {
  "kernelspec": {
   "display_name": "env_api",
   "language": "python",
   "name": "python3"
  },
  "language_info": {
   "codemirror_mode": {
    "name": "ipython",
    "version": 3
   },
   "file_extension": ".py",
   "mimetype": "text/x-python",
   "name": "python",
   "nbconvert_exporter": "python",
   "pygments_lexer": "ipython3",
   "version": "3.8.10"
  }
 },
 "nbformat": 4,
 "nbformat_minor": 2
}
