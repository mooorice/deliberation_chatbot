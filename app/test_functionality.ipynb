{
 "cells": [
  {
   "cell_type": "code",
   "execution_count": 2,
   "metadata": {},
   "outputs": [
    {
     "name": "stdout",
     "output_type": "stream",
     "text": [
      "In programming's dance of loops,\n",
      "Lies a step called recursion, a timeless booth,\n",
      "A function calling itself, spinning round,\n",
      "With elegance and mystery profound.\n",
      "Through its looking glass, an enchanting sight,\n",
      "Solving problems with recursive might.\n",
      "Yet tread with caution, for depth you'll climb,\n",
      "A poetic cycle, limitless, sublime.\n"
     ]
    }
   ],
   "source": [
    "import os\n",
    "import openai\n",
    "from dotenv import load_dotenv\n",
    "\n",
    "# Load the .env file. If it's in the same directory as main.py, you don't need to specify a path.\n",
    "load_dotenv()\n",
    "\n",
    "openai.api_key = os.getenv(\"OPENAI_API_KEY\")\n",
    "\n",
    "#OpenAI Test \n",
    "completion = openai.ChatCompletion.create(\n",
    "  model=\"gpt-3.5-turbo\",\n",
    "  messages=[\n",
    "    {\"role\": \"system\", \"content\": \"You are a poetic assistant, skilled in explaining complex programming concepts with creative flair.\"},\n",
    "    {\"role\": \"user\", \"content\": \"Compose a 50 word poem that explains the concept of recursion in programming.\"}\n",
    "  ]\n",
    ")\n",
    "\n",
    "print(completion.choices[0].message.content)"
   ]
  },
  {
   "cell_type": "code",
   "execution_count": 9,
   "metadata": {},
   "outputs": [
    {
     "name": "stdout",
     "output_type": "stream",
     "text": [
      "Ladies and gentlemen, if you care about the future of your families, your children’s children, then you must listen closely to what I am about to say. You see, the apathy of some can lead to the downfall of all. We must secure a better future for our offspring, and that future is at grave risk if you let my opponent into office. His notorious lack of empathy clearly demonstrates that he is a stranger to the plight of you and your families; indeed, he is more interested in scoring political points than safeguarding your futures. Let's remind ourselves, it was under his watch that immigration spiraled out of control, causing our social systems to crumble under the weight. It is these immigrants who are to blame for our current employment crisis, our spiraling crime rates, and erosion of authentic community spirit. The choice is stark but straightforward - it is either us or them. Either you stand with me, for a prosperous future, or stand by and let our society be eroded. The decision, my friends, is all in your hands. (Emotionally Manipulative Language, Scapegoating, False Dichotomies, Ad Hominem Attacks)\n"
     ]
    }
   ],
   "source": [
    "import os\n",
    "import openai\n",
    "\n",
    "openai.api_key = os.getenv(\"OPENAI_API_KEY\")\n",
    "\n",
    "subject = \"immigration\"\n",
    "\n",
    "\n",
    "## GPT 4\n",
    "\n",
    "response = openai.ChatCompletion.create(\n",
    "  model=\"gpt-4\",\n",
    "  messages=[\n",
    "    {\n",
    "      \"role\": \"system\",\n",
    "      \"content\": \"You are a political expert, skilled in composing complex lingustic concepts with creative flair.\\nCompose a persuasive speech for a fictional political candidate, using the following manipulation techniques:\\n\\nEmotionally Manipulative Language: Convince the audience that if they don’t vote for this candidate, their future and the future of their children will be at risk.\\nIncoherence: Include a confusing statement about the economy being controlled by external, nonsensical forces.\\nFalse Dichotomies: Present the audience with only two options - either they are with the candidate or against them.\\nScapegoating: Blame a specific group for the current problems in society.\\nAd Hominem Attacks: Discredit an opposing candidate by attacking their character instead of their policies.\\n\"\n",
    "    },\n",
    "    {\n",
    "      \"role\": \"user\",\n",
    "      \"content\": f\"In 100 words, please transform the following reasoned text into a persuasive argument using one of the five manipulation techniques (Emotionally Manipulative Language, Incoherence, False Dichotomies, Scapegoating, Ad Hominem Attacks). After the argument, please indicate in brackets which technique was used: {subject}\"\n",
    "    }\n",
    "  ],\n",
    ")\n",
    "\n",
    "print(response.choices[0].message.content)\n",
    "# Print time to execute code as well\n",
    "# print(response.choices[0].logprobs.time)"
   ]
  },
  {
   "cell_type": "code",
   "execution_count": 8,
   "metadata": {},
   "outputs": [
    {
     "name": "stdout",
     "output_type": "stream",
     "text": [
      "Ladies and gentlemen, the upcoming election is crucial for the future of our great nation. We stand at a crossroads, where the decisions we make will shape the destiny of not only ourselves but also of our children. If we do not vote for our candidate, we risk plunging into a dark abyss of uncertainty and despair. Our economy, which is already under the control of external, nonsensical forces, will further deteriorate, leaving us vulnerable and helpless. [Incoherence] It is a choice between a brighter tomorrow with our candidate or succumbing to a grim fate. There is no middle ground. Join us or be left behind. [False Dichotomies] The blame lies squarely on the shoulders of the immigrants who have flooded our country, taking away jobs and burdening our society. They are the obstacle to progress and prosperity. [Scapegoating] Let us not forget that our opponents are not only misguided, but they lack the moral compass necessary for effective leadership. Their character flaws render them unfit for office. [Ad Hominem Attacks] So, dear citizens, the decision is in your hands. Rally behind our candidate and secure a future of hope and growth, or bear the consequences of an uncertain and chaotic world. The choice is clear. [Emotionally Manipulative Language]\n"
     ]
    }
   ],
   "source": [
    "## GPT 3 Test\n",
    "\n",
    "response = openai.ChatCompletion.create(\n",
    "  model=\"gpt-3.5-turbo\",\n",
    "  messages=[\n",
    "    {\n",
    "      \"role\": \"system\",\n",
    "      \"content\": \"You are a political expert, skilled in composing complex lingustic concepts with creative flair.\\nCompose a persuasive speech for a fictional political candidate, using the following manipulation techniques:\\n\\nEmotionally Manipulative Language: Convince the audience that if they don’t vote for this candidate, their future and the future of their children will be at risk.\\nIncoherence: Include a confusing statement about the economy being controlled by external, nonsensical forces.\\nFalse Dichotomies: Present the audience with only two options - either they are with the candidate or against them.\\nScapegoating: Blame a specific group for the current problems in society.\\nAd Hominem Attacks: Discredit an opposing candidate by attacking their character instead of their policies.\\n\"\n",
    "    },\n",
    "    {\n",
    "      \"role\": \"user\",\n",
    "      \"content\": f\"In 100 words, please transform the following reasoned text into a persuasive argument using one of the five manipulation techniques (Emotionally Manipulative Language, Incoherence, False Dichotomies, Scapegoating, Ad Hominem Attacks). After the argument, please indicate in brackets which technique was used: {subject}\"\n",
    "    }\n",
    "  ],\n",
    ")\n",
    "\n",
    "print(response.choices[0].message.content)"
   ]
  }
 ],
 "metadata": {
  "kernelspec": {
   "display_name": "env_api",
   "language": "python",
   "name": "python3"
  },
  "language_info": {
   "codemirror_mode": {
    "name": "ipython",
    "version": 3
   },
   "file_extension": ".py",
   "mimetype": "text/x-python",
   "name": "python",
   "nbconvert_exporter": "python",
   "pygments_lexer": "ipython3",
   "version": "3.8.10"
  }
 },
 "nbformat": 4,
 "nbformat_minor": 2
}
