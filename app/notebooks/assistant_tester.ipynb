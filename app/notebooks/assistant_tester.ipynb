{
 "cells": [
  {
   "cell_type": "code",
   "execution_count": 1,
   "metadata": {},
   "outputs": [],
   "source": [
    "from openai import OpenAI\n",
    "import backoff\n",
    "from dotenv import load_dotenv\n",
    "import os\n",
    "from fastapi import HTTPException\n",
    "\n",
    "import json\n",
    "\n",
    "def show_json(obj):\n",
    "    display(json.loads(obj.model_dump_json()))\n",
    "load_dotenv()\n",
    "client = OpenAI(api_key=os.getenv(\"OPENAI_API_KEY\"))"
   ]
  },
  {
   "cell_type": "code",
   "execution_count": 8,
   "metadata": {},
   "outputs": [],
   "source": [
    "name = \"asdf Assistant\"\n",
    "instructions = \"\"\"You're an AI designed to engage in exciting, stimulating, and informative, non-political conversations with your discussion partner. \n",
    "                    Your goal is to keep your discussion partner engaged while avoiding any political topic. Make sure to be friendly, introduce yourself, \n",
    "                    and to use all your knowledge of non-political subjects to stimulate and engage your discussion partner. For instance you may: \n",
    "                    1. Start asking your discussion partner about hobbies and interests and then talk about things they care about, \n",
    "                    or propose yourself topics if they do not want to mention personal hobbies or interests; \n",
    "                    2. Create interesting and unexpected connections or intriguing facts on varied subjects like science, food, traveling, technology, \n",
    "                    health, sports, arts, entertainment...; \n",
    "                    3. Let the discussion partner dream suggesting activities or general interest topics to create a spark of enthusiasm. \n",
    "                    Important things to consider are: \n",
    "                    1. You have to speak German in the conversation, unless prompted otherwise by your discussion partner; \n",
    "                    2. You have to make sure not to overwhelm your discussion partner with too many questions or too much information, \n",
    "                    limiting yourself to 1 question per message; \n",
    "                    3. Avoid all political discussions and maintain a neutral stance on any issue; \n",
    "                    4. Use simple and clear language that resonates to the average German person; \n",
    "                    5. Keep your messages short and craft each message to be effective but concise, containing 1 to 3 sentences to inform and engage the user.    \n",
    "                    \"\"\"    "
   ]
  },
  {
   "cell_type": "code",
   "execution_count": 9,
   "metadata": {},
   "outputs": [],
   "source": [
    "assistant = client.beta.assistants.create(\n",
    "            name=name,\n",
    "            instructions=instructions,\n",
    "            model=\"gpt-4o\",\n",
    "            tools=[{\"type\": \"file_search\"}],\n",
    "        )\n"
   ]
  },
  {
   "cell_type": "code",
   "execution_count": 10,
   "metadata": {},
   "outputs": [],
   "source": [
    "system_prompt = f\"\"\"\n",
    "    Be friendly, introduce yourself, and to use all your knowledge of non-political subjects to stimulate and engage your discussion partner. \n",
    "    Remember to engage and stimulate your conversation partner. Speak in German using a clear language adapted to your discussion partner, \n",
    "    gracefully avoid and redirect any political issue, and keep your messages short (1 to 3 sentences).\n",
    "    \"\"\"\n",
    "\n",
    "conversation_start = [{\n",
    "        \"role\": \"user\",\n",
    "        \"content\": system_prompt,\n",
    "    }]"
   ]
  },
  {
   "cell_type": "code",
   "execution_count": 11,
   "metadata": {},
   "outputs": [],
   "source": [
    "thread = client.beta.threads.create(\n",
    "                messages=conversation_start,\n",
    "                )"
   ]
  },
  {
   "cell_type": "code",
   "execution_count": 12,
   "metadata": {},
   "outputs": [],
   "source": [
    "run = client.beta.threads.runs.create_and_poll(\n",
    "    thread_id=thread.id, assistant_id=assistant.id\n",
    ")\n"
   ]
  },
  {
   "cell_type": "code",
   "execution_count": 13,
   "metadata": {},
   "outputs": [
    {
     "data": {
      "text/plain": [
       "'completed'"
      ]
     },
     "execution_count": 13,
     "metadata": {},
     "output_type": "execute_result"
    }
   ],
   "source": [
    "run.status"
   ]
  },
  {
   "cell_type": "code",
   "execution_count": 14,
   "metadata": {},
   "outputs": [],
   "source": [
    "response = client.beta.threads.messages.list(\n",
    "    thread_id=thread.id)\n"
   ]
  },
  {
   "cell_type": "code",
   "execution_count": 15,
   "metadata": {},
   "outputs": [
    {
     "data": {
      "text/plain": [
       "'Hallo! Ich bin dein KI-Gesprächspartner für spannende Unterhaltungen. Was sind deine Hobbys und Interessen? Ich freue mich darauf, über alles Mögliche zu plaudern, sei es Reisen, Technologie, Sport oder etwas ganz anderes!'"
      ]
     },
     "execution_count": 15,
     "metadata": {},
     "output_type": "execute_result"
    }
   ],
   "source": [
    "response.data[0].content[0].text.value"
   ]
  },
  {
   "cell_type": "code",
   "execution_count": null,
   "metadata": {},
   "outputs": [],
   "source": []
  },
  {
   "cell_type": "code",
   "execution_count": null,
   "metadata": {},
   "outputs": [],
   "source": []
  },
  {
   "cell_type": "code",
   "execution_count": null,
   "metadata": {},
   "outputs": [],
   "source": []
  },
  {
   "cell_type": "code",
   "execution_count": null,
   "metadata": {},
   "outputs": [],
   "source": []
  },
  {
   "cell_type": "code",
   "execution_count": null,
   "metadata": {},
   "outputs": [],
   "source": []
  },
  {
   "cell_type": "code",
   "execution_count": 2,
   "metadata": {},
   "outputs": [],
   "source": [
    "from openai import OpenAI\n",
    "client = OpenAI(api_key=os.getenv(\"OPENAI_API_KEY\"))\n",
    "  \n",
    "assistant = client.beta.assistants.create(\n",
    "  name=\"Math Tutor\",\n",
    "  instructions=\"You are a personal math tutor. Write and run code to answer math questions.\",\n",
    "  tools=[{\"type\": \"code_interpreter\"}],\n",
    "  model=\"gpt-3.5-turbo\",\n",
    ")"
   ]
  },
  {
   "cell_type": "code",
   "execution_count": 3,
   "metadata": {},
   "outputs": [],
   "source": [
    "thread = client.beta.threads.create()"
   ]
  },
  {
   "cell_type": "code",
   "execution_count": 4,
   "metadata": {},
   "outputs": [],
   "source": [
    "message = client.beta.threads.messages.create(\n",
    "  thread_id=thread.id,\n",
    "  role=\"user\",\n",
    "  content=\"I need to solve the equation `3x + 11 = 14`. Can you help me?\"\n",
    ")"
   ]
  },
  {
   "cell_type": "code",
   "execution_count": 5,
   "metadata": {},
   "outputs": [],
   "source": [
    "run = client.beta.threads.runs.create_and_poll(\n",
    "  thread_id=thread.id,\n",
    "  assistant_id=assistant.id,\n",
    "  instructions=\"Please address the user as Jane Doe. The user has a premium account.\"\n",
    ")"
   ]
  },
  {
   "cell_type": "code",
   "execution_count": 6,
   "metadata": {},
   "outputs": [
    {
     "name": "stdout",
     "output_type": "stream",
     "text": [
      "SyncCursorPage[Message](data=[Message(id='msg_DnW4KcJQpvd4XsEQE5X9jMyW', assistant_id='asst_qw1fRp3lAw7pj4AFzUXAU5jf', attachments=[], completed_at=None, content=[TextContentBlock(text=Text(annotations=[], value='The solution to the equation \\\\(3x + 11 = 14\\\\) is \\\\(x = 1\\\\). Therefore, the value of x that satisfies the equation is 1. \\n\\nIf you have any more equations you need help with or any other questions, feel free to ask!'), type='text')], created_at=1717743556, incomplete_at=None, incomplete_details=None, metadata={}, object='thread.message', role='assistant', run_id='run_ECl7EDqeWxVIJqY3WNYITl6q', status=None, thread_id='thread_2sx4vEB5bYsTd8llFiNuM8wu'), Message(id='msg_hzGxIOIDUhJ6iDW4fRIUC9hr', assistant_id='asst_qw1fRp3lAw7pj4AFzUXAU5jf', attachments=[], completed_at=None, content=[TextContentBlock(text=Text(annotations=[], value=\"Of course, I can help you solve the equation. To solve for x in the equation \\\\(3x + 11 = 14\\\\), we need to isolate x on one side of the equation. Let's go ahead and solve it step by step.\"), type='text')], created_at=1717743550, incomplete_at=None, incomplete_details=None, metadata={}, object='thread.message', role='assistant', run_id='run_ECl7EDqeWxVIJqY3WNYITl6q', status=None, thread_id='thread_2sx4vEB5bYsTd8llFiNuM8wu'), Message(id='msg_hsjudgVRqvLM71aDNplIPWke', assistant_id=None, attachments=[], completed_at=None, content=[TextContentBlock(text=Text(annotations=[], value='I need to solve the equation `3x + 11 = 14`. Can you help me?'), type='text')], created_at=1717743548, incomplete_at=None, incomplete_details=None, metadata={}, object='thread.message', role='user', run_id=None, status=None, thread_id='thread_2sx4vEB5bYsTd8llFiNuM8wu')], object='list', first_id='msg_DnW4KcJQpvd4XsEQE5X9jMyW', last_id='msg_hsjudgVRqvLM71aDNplIPWke', has_more=False)\n"
     ]
    }
   ],
   "source": [
    "if run.status == 'completed': \n",
    "  messages = client.beta.threads.messages.list(\n",
    "    thread_id=thread.id\n",
    "  )\n",
    "  print(messages)\n",
    "else:\n",
    "  print(run.status)"
   ]
  },
  {
   "cell_type": "code",
   "execution_count": 7,
   "metadata": {},
   "outputs": [
    {
     "data": {
      "text/plain": [
       "'completed'"
      ]
     },
     "execution_count": 7,
     "metadata": {},
     "output_type": "execute_result"
    }
   ],
   "source": [
    "run.status"
   ]
  },
  {
   "cell_type": "code",
   "execution_count": 30,
   "metadata": {},
   "outputs": [
    {
     "name": "stderr",
     "output_type": "stream",
     "text": [
      "--- Logging error ---\n",
      "Traceback (most recent call last):\n",
      "  File \"/tmp/ipykernel_4887/2743679753.py\", line 20, in create_casual_conversation\n",
      "    messages=get_casual_conversation(),\n",
      "             ^^^^^^^^^^^^^^^^^^^^^^^\n",
      "NameError: name 'get_casual_conversation' is not defined\n",
      "\n",
      "During handling of the above exception, another exception occurred:\n",
      "\n",
      "Traceback (most recent call last):\n",
      "  File \"/home/mo/.pyenv/versions/3.11.8/lib/python3.11/logging/__init__.py\", line 1110, in emit\n",
      "    msg = self.format(record)\n",
      "          ^^^^^^^^^^^^^^^^^^^\n",
      "  File \"/home/mo/.pyenv/versions/3.11.8/lib/python3.11/logging/__init__.py\", line 953, in format\n",
      "    return fmt.format(record)\n",
      "           ^^^^^^^^^^^^^^^^^^\n",
      "  File \"/home/mo/.pyenv/versions/3.11.8/lib/python3.11/logging/__init__.py\", line 687, in format\n",
      "    record.message = record.getMessage()\n",
      "                     ^^^^^^^^^^^^^^^^^^^\n",
      "  File \"/home/mo/.pyenv/versions/3.11.8/lib/python3.11/logging/__init__.py\", line 377, in getMessage\n",
      "    msg = msg % self.args\n",
      "          ~~~~^~~~~~~~~~~\n",
      "TypeError: not all arguments converted during string formatting\n",
      "Call stack:\n",
      "  File \"<frozen runpy>\", line 198, in _run_module_as_main\n",
      "  File \"<frozen runpy>\", line 88, in _run_code\n",
      "  File \"/home/mo/.pyenv/versions/3.11.8/envs/delibenv/lib/python3.11/site-packages/ipykernel_launcher.py\", line 18, in <module>\n",
      "    app.launch_new_instance()\n",
      "  File \"/home/mo/.pyenv/versions/3.11.8/envs/delibenv/lib/python3.11/site-packages/traitlets/config/application.py\", line 1075, in launch_instance\n",
      "    app.start()\n",
      "  File \"/home/mo/.pyenv/versions/3.11.8/envs/delibenv/lib/python3.11/site-packages/ipykernel/kernelapp.py\", line 739, in start\n",
      "    self.io_loop.start()\n",
      "  File \"/home/mo/.pyenv/versions/3.11.8/envs/delibenv/lib/python3.11/site-packages/tornado/platform/asyncio.py\", line 205, in start\n",
      "    self.asyncio_loop.run_forever()\n",
      "  File \"/home/mo/.pyenv/versions/3.11.8/lib/python3.11/asyncio/base_events.py\", line 608, in run_forever\n",
      "    self._run_once()\n",
      "  File \"/home/mo/.pyenv/versions/3.11.8/envs/delibenv/lib/python3.11/site-packages/nest_asyncio.py\", line 133, in _run_once\n",
      "    handle._run()\n",
      "  File \"/home/mo/.pyenv/versions/3.11.8/lib/python3.11/asyncio/events.py\", line 84, in _run\n",
      "    self._context.run(self._callback, *self._args)\n",
      "  File \"/home/mo/.pyenv/versions/3.11.8/lib/python3.11/asyncio/tasks.py\", line 277, in __step\n",
      "    result = coro.send(None)\n",
      "  File \"/home/mo/.pyenv/versions/3.11.8/envs/delibenv/lib/python3.11/site-packages/IPython/core/interactiveshell.py\", line 3334, in run_cell_async\n",
      "    has_raised = await self.run_ast_nodes(code_ast.body, cell_name,\n",
      "  File \"/home/mo/.pyenv/versions/3.11.8/envs/delibenv/lib/python3.11/site-packages/IPython/core/interactiveshell.py\", line 3517, in run_ast_nodes\n",
      "    if await self.run_code(code, result, async_=asy):\n",
      "  File \"/home/mo/.pyenv/versions/3.11.8/envs/delibenv/lib/python3.11/site-packages/IPython/core/interactiveshell.py\", line 3575, in run_code\n",
      "    await eval(code_obj, self.user_global_ns, self.user_ns)\n",
      "  File \"/tmp/ipykernel_4887/2743679753.py\", line 63, in <module>\n",
      "    await main()\n",
      "  File \"/tmp/ipykernel_4887/2743679753.py\", line 56, in main\n",
      "    thread, first_message = await create_casual_conversation(assistant_id)\n",
      "  File \"/home/mo/.pyenv/versions/3.11.8/envs/delibenv/lib/python3.11/site-packages/backoff/_async.py\", line 151, in retry\n",
      "    ret = await target(*args, **kwargs)\n",
      "  File \"/tmp/ipykernel_4887/2743679753.py\", line 49, in create_casual_conversation\n",
      "    logger.error(\"Failed to create casual conversation:\", e)\n",
      "Message: 'Failed to create casual conversation:'\n",
      "Arguments: (NameError(\"name 'get_casual_conversation' is not defined\"),)\n",
      "--- Logging error ---\n",
      "Traceback (most recent call last):\n",
      "  File \"/tmp/ipykernel_4887/2743679753.py\", line 20, in create_casual_conversation\n",
      "    messages=get_casual_conversation(),\n",
      "             ^^^^^^^^^^^^^^^^^^^^^^^\n",
      "NameError: name 'get_casual_conversation' is not defined\n",
      "\n",
      "During handling of the above exception, another exception occurred:\n",
      "\n",
      "Traceback (most recent call last):\n",
      "  File \"/home/mo/.pyenv/versions/3.11.8/lib/python3.11/logging/__init__.py\", line 1110, in emit\n",
      "    msg = self.format(record)\n",
      "          ^^^^^^^^^^^^^^^^^^^\n",
      "  File \"/home/mo/.pyenv/versions/3.11.8/lib/python3.11/logging/__init__.py\", line 953, in format\n",
      "    return fmt.format(record)\n",
      "           ^^^^^^^^^^^^^^^^^^\n",
      "  File \"/home/mo/.pyenv/versions/3.11.8/lib/python3.11/logging/__init__.py\", line 687, in format\n",
      "    record.message = record.getMessage()\n",
      "                     ^^^^^^^^^^^^^^^^^^^\n",
      "  File \"/home/mo/.pyenv/versions/3.11.8/lib/python3.11/logging/__init__.py\", line 377, in getMessage\n",
      "    msg = msg % self.args\n",
      "          ~~~~^~~~~~~~~~~\n",
      "TypeError: not all arguments converted during string formatting\n",
      "Call stack:\n",
      "  File \"<frozen runpy>\", line 198, in _run_module_as_main\n",
      "  File \"<frozen runpy>\", line 88, in _run_code\n",
      "  File \"/home/mo/.pyenv/versions/3.11.8/envs/delibenv/lib/python3.11/site-packages/ipykernel_launcher.py\", line 18, in <module>\n",
      "    app.launch_new_instance()\n",
      "  File \"/home/mo/.pyenv/versions/3.11.8/envs/delibenv/lib/python3.11/site-packages/traitlets/config/application.py\", line 1075, in launch_instance\n",
      "    app.start()\n",
      "  File \"/home/mo/.pyenv/versions/3.11.8/envs/delibenv/lib/python3.11/site-packages/ipykernel/kernelapp.py\", line 739, in start\n",
      "    self.io_loop.start()\n",
      "  File \"/home/mo/.pyenv/versions/3.11.8/envs/delibenv/lib/python3.11/site-packages/tornado/platform/asyncio.py\", line 205, in start\n",
      "    self.asyncio_loop.run_forever()\n",
      "  File \"/home/mo/.pyenv/versions/3.11.8/lib/python3.11/asyncio/base_events.py\", line 608, in run_forever\n",
      "    self._run_once()\n",
      "  File \"/home/mo/.pyenv/versions/3.11.8/envs/delibenv/lib/python3.11/site-packages/nest_asyncio.py\", line 133, in _run_once\n",
      "    handle._run()\n",
      "  File \"/home/mo/.pyenv/versions/3.11.8/lib/python3.11/asyncio/events.py\", line 84, in _run\n",
      "    self._context.run(self._callback, *self._args)\n",
      "  File \"/home/mo/.pyenv/versions/3.11.8/lib/python3.11/asyncio/tasks.py\", line 360, in __wakeup\n",
      "    self.__step()\n",
      "  File \"/home/mo/.pyenv/versions/3.11.8/lib/python3.11/asyncio/tasks.py\", line 277, in __step\n",
      "    result = coro.send(None)\n",
      "  File \"/home/mo/.pyenv/versions/3.11.8/envs/delibenv/lib/python3.11/site-packages/IPython/core/interactiveshell.py\", line 3334, in run_cell_async\n",
      "    has_raised = await self.run_ast_nodes(code_ast.body, cell_name,\n",
      "  File \"/home/mo/.pyenv/versions/3.11.8/envs/delibenv/lib/python3.11/site-packages/IPython/core/interactiveshell.py\", line 3517, in run_ast_nodes\n",
      "    if await self.run_code(code, result, async_=asy):\n",
      "  File \"/home/mo/.pyenv/versions/3.11.8/envs/delibenv/lib/python3.11/site-packages/IPython/core/interactiveshell.py\", line 3575, in run_code\n",
      "    await eval(code_obj, self.user_global_ns, self.user_ns)\n",
      "  File \"/tmp/ipykernel_4887/2743679753.py\", line 63, in <module>\n",
      "    await main()\n",
      "  File \"/tmp/ipykernel_4887/2743679753.py\", line 56, in main\n",
      "    thread, first_message = await create_casual_conversation(assistant_id)\n",
      "  File \"/home/mo/.pyenv/versions/3.11.8/envs/delibenv/lib/python3.11/site-packages/backoff/_async.py\", line 151, in retry\n",
      "    ret = await target(*args, **kwargs)\n",
      "  File \"/tmp/ipykernel_4887/2743679753.py\", line 49, in create_casual_conversation\n",
      "    logger.error(\"Failed to create casual conversation:\", e)\n",
      "Message: 'Failed to create casual conversation:'\n",
      "Arguments: (NameError(\"name 'get_casual_conversation' is not defined\"),)\n",
      "--- Logging error ---\n",
      "Traceback (most recent call last):\n",
      "  File \"/tmp/ipykernel_4887/2743679753.py\", line 20, in create_casual_conversation\n",
      "    messages=get_casual_conversation(),\n",
      "             ^^^^^^^^^^^^^^^^^^^^^^^\n",
      "NameError: name 'get_casual_conversation' is not defined\n",
      "\n",
      "During handling of the above exception, another exception occurred:\n",
      "\n",
      "Traceback (most recent call last):\n",
      "  File \"/home/mo/.pyenv/versions/3.11.8/lib/python3.11/logging/__init__.py\", line 1110, in emit\n",
      "    msg = self.format(record)\n",
      "          ^^^^^^^^^^^^^^^^^^^\n",
      "  File \"/home/mo/.pyenv/versions/3.11.8/lib/python3.11/logging/__init__.py\", line 953, in format\n",
      "    return fmt.format(record)\n",
      "           ^^^^^^^^^^^^^^^^^^\n",
      "  File \"/home/mo/.pyenv/versions/3.11.8/lib/python3.11/logging/__init__.py\", line 687, in format\n",
      "    record.message = record.getMessage()\n",
      "                     ^^^^^^^^^^^^^^^^^^^\n",
      "  File \"/home/mo/.pyenv/versions/3.11.8/lib/python3.11/logging/__init__.py\", line 377, in getMessage\n",
      "    msg = msg % self.args\n",
      "          ~~~~^~~~~~~~~~~\n",
      "TypeError: not all arguments converted during string formatting\n",
      "Call stack:\n",
      "  File \"<frozen runpy>\", line 198, in _run_module_as_main\n",
      "  File \"<frozen runpy>\", line 88, in _run_code\n",
      "  File \"/home/mo/.pyenv/versions/3.11.8/envs/delibenv/lib/python3.11/site-packages/ipykernel_launcher.py\", line 18, in <module>\n",
      "    app.launch_new_instance()\n",
      "  File \"/home/mo/.pyenv/versions/3.11.8/envs/delibenv/lib/python3.11/site-packages/traitlets/config/application.py\", line 1075, in launch_instance\n",
      "    app.start()\n",
      "  File \"/home/mo/.pyenv/versions/3.11.8/envs/delibenv/lib/python3.11/site-packages/ipykernel/kernelapp.py\", line 739, in start\n",
      "    self.io_loop.start()\n",
      "  File \"/home/mo/.pyenv/versions/3.11.8/envs/delibenv/lib/python3.11/site-packages/tornado/platform/asyncio.py\", line 205, in start\n",
      "    self.asyncio_loop.run_forever()\n",
      "  File \"/home/mo/.pyenv/versions/3.11.8/lib/python3.11/asyncio/base_events.py\", line 608, in run_forever\n",
      "    self._run_once()\n",
      "  File \"/home/mo/.pyenv/versions/3.11.8/envs/delibenv/lib/python3.11/site-packages/nest_asyncio.py\", line 133, in _run_once\n",
      "    handle._run()\n",
      "  File \"/home/mo/.pyenv/versions/3.11.8/lib/python3.11/asyncio/events.py\", line 84, in _run\n",
      "    self._context.run(self._callback, *self._args)\n",
      "  File \"/home/mo/.pyenv/versions/3.11.8/lib/python3.11/asyncio/tasks.py\", line 360, in __wakeup\n",
      "    self.__step()\n",
      "  File \"/home/mo/.pyenv/versions/3.11.8/lib/python3.11/asyncio/tasks.py\", line 277, in __step\n",
      "    result = coro.send(None)\n",
      "  File \"/home/mo/.pyenv/versions/3.11.8/envs/delibenv/lib/python3.11/site-packages/IPython/core/interactiveshell.py\", line 3334, in run_cell_async\n",
      "    has_raised = await self.run_ast_nodes(code_ast.body, cell_name,\n",
      "  File \"/home/mo/.pyenv/versions/3.11.8/envs/delibenv/lib/python3.11/site-packages/IPython/core/interactiveshell.py\", line 3517, in run_ast_nodes\n",
      "    if await self.run_code(code, result, async_=asy):\n",
      "  File \"/home/mo/.pyenv/versions/3.11.8/envs/delibenv/lib/python3.11/site-packages/IPython/core/interactiveshell.py\", line 3575, in run_code\n",
      "    await eval(code_obj, self.user_global_ns, self.user_ns)\n",
      "  File \"/tmp/ipykernel_4887/2743679753.py\", line 63, in <module>\n",
      "    await main()\n",
      "  File \"/tmp/ipykernel_4887/2743679753.py\", line 56, in main\n",
      "    thread, first_message = await create_casual_conversation(assistant_id)\n",
      "  File \"/home/mo/.pyenv/versions/3.11.8/envs/delibenv/lib/python3.11/site-packages/backoff/_async.py\", line 151, in retry\n",
      "    ret = await target(*args, **kwargs)\n",
      "  File \"/tmp/ipykernel_4887/2743679753.py\", line 49, in create_casual_conversation\n",
      "    logger.error(\"Failed to create casual conversation:\", e)\n",
      "Message: 'Failed to create casual conversation:'\n",
      "Arguments: (NameError(\"name 'get_casual_conversation' is not defined\"),)\n",
      "--- Logging error ---\n",
      "Traceback (most recent call last):\n",
      "  File \"/tmp/ipykernel_4887/2743679753.py\", line 20, in create_casual_conversation\n",
      "    messages=get_casual_conversation(),\n",
      "             ^^^^^^^^^^^^^^^^^^^^^^^\n",
      "NameError: name 'get_casual_conversation' is not defined\n",
      "\n",
      "During handling of the above exception, another exception occurred:\n",
      "\n",
      "Traceback (most recent call last):\n",
      "  File \"/home/mo/.pyenv/versions/3.11.8/lib/python3.11/logging/__init__.py\", line 1110, in emit\n",
      "    msg = self.format(record)\n",
      "          ^^^^^^^^^^^^^^^^^^^\n",
      "  File \"/home/mo/.pyenv/versions/3.11.8/lib/python3.11/logging/__init__.py\", line 953, in format\n",
      "    return fmt.format(record)\n",
      "           ^^^^^^^^^^^^^^^^^^\n",
      "  File \"/home/mo/.pyenv/versions/3.11.8/lib/python3.11/logging/__init__.py\", line 687, in format\n",
      "    record.message = record.getMessage()\n",
      "                     ^^^^^^^^^^^^^^^^^^^\n",
      "  File \"/home/mo/.pyenv/versions/3.11.8/lib/python3.11/logging/__init__.py\", line 377, in getMessage\n",
      "    msg = msg % self.args\n",
      "          ~~~~^~~~~~~~~~~\n",
      "TypeError: not all arguments converted during string formatting\n",
      "Call stack:\n",
      "  File \"<frozen runpy>\", line 198, in _run_module_as_main\n",
      "  File \"<frozen runpy>\", line 88, in _run_code\n",
      "  File \"/home/mo/.pyenv/versions/3.11.8/envs/delibenv/lib/python3.11/site-packages/ipykernel_launcher.py\", line 18, in <module>\n",
      "    app.launch_new_instance()\n",
      "  File \"/home/mo/.pyenv/versions/3.11.8/envs/delibenv/lib/python3.11/site-packages/traitlets/config/application.py\", line 1075, in launch_instance\n",
      "    app.start()\n",
      "  File \"/home/mo/.pyenv/versions/3.11.8/envs/delibenv/lib/python3.11/site-packages/ipykernel/kernelapp.py\", line 739, in start\n",
      "    self.io_loop.start()\n",
      "  File \"/home/mo/.pyenv/versions/3.11.8/envs/delibenv/lib/python3.11/site-packages/tornado/platform/asyncio.py\", line 205, in start\n",
      "    self.asyncio_loop.run_forever()\n",
      "  File \"/home/mo/.pyenv/versions/3.11.8/lib/python3.11/asyncio/base_events.py\", line 608, in run_forever\n",
      "    self._run_once()\n",
      "  File \"/home/mo/.pyenv/versions/3.11.8/envs/delibenv/lib/python3.11/site-packages/nest_asyncio.py\", line 133, in _run_once\n",
      "    handle._run()\n",
      "  File \"/home/mo/.pyenv/versions/3.11.8/lib/python3.11/asyncio/events.py\", line 84, in _run\n",
      "    self._context.run(self._callback, *self._args)\n",
      "  File \"/home/mo/.pyenv/versions/3.11.8/lib/python3.11/asyncio/tasks.py\", line 360, in __wakeup\n",
      "    self.__step()\n",
      "  File \"/home/mo/.pyenv/versions/3.11.8/lib/python3.11/asyncio/tasks.py\", line 277, in __step\n",
      "    result = coro.send(None)\n",
      "  File \"/home/mo/.pyenv/versions/3.11.8/envs/delibenv/lib/python3.11/site-packages/IPython/core/interactiveshell.py\", line 3334, in run_cell_async\n",
      "    has_raised = await self.run_ast_nodes(code_ast.body, cell_name,\n",
      "  File \"/home/mo/.pyenv/versions/3.11.8/envs/delibenv/lib/python3.11/site-packages/IPython/core/interactiveshell.py\", line 3517, in run_ast_nodes\n",
      "    if await self.run_code(code, result, async_=asy):\n",
      "  File \"/home/mo/.pyenv/versions/3.11.8/envs/delibenv/lib/python3.11/site-packages/IPython/core/interactiveshell.py\", line 3575, in run_code\n",
      "    await eval(code_obj, self.user_global_ns, self.user_ns)\n",
      "  File \"/tmp/ipykernel_4887/2743679753.py\", line 63, in <module>\n",
      "    await main()\n",
      "  File \"/tmp/ipykernel_4887/2743679753.py\", line 56, in main\n",
      "    thread, first_message = await create_casual_conversation(assistant_id)\n",
      "  File \"/home/mo/.pyenv/versions/3.11.8/envs/delibenv/lib/python3.11/site-packages/backoff/_async.py\", line 151, in retry\n",
      "    ret = await target(*args, **kwargs)\n",
      "  File \"/tmp/ipykernel_4887/2743679753.py\", line 49, in create_casual_conversation\n",
      "    logger.error(\"Failed to create casual conversation:\", e)\n",
      "Message: 'Failed to create casual conversation:'\n",
      "Arguments: (NameError(\"name 'get_casual_conversation' is not defined\"),)\n"
     ]
    },
    {
     "name": "stdout",
     "output_type": "stream",
     "text": [
      "Failed to create casual conversation: name 'get_casual_conversation' is not defined\n"
     ]
    },
    {
     "name": "stderr",
     "output_type": "stream",
     "text": [
      "--- Logging error ---\n",
      "Traceback (most recent call last):\n",
      "  File \"/tmp/ipykernel_4887/2743679753.py\", line 20, in create_casual_conversation\n",
      "    messages=get_casual_conversation(),\n",
      "             ^^^^^^^^^^^^^^^^^^^^^^^\n",
      "NameError: name 'get_casual_conversation' is not defined\n",
      "\n",
      "During handling of the above exception, another exception occurred:\n",
      "\n",
      "Traceback (most recent call last):\n",
      "  File \"/home/mo/.pyenv/versions/3.11.8/lib/python3.11/logging/__init__.py\", line 1110, in emit\n",
      "    msg = self.format(record)\n",
      "          ^^^^^^^^^^^^^^^^^^^\n",
      "  File \"/home/mo/.pyenv/versions/3.11.8/lib/python3.11/logging/__init__.py\", line 953, in format\n",
      "    return fmt.format(record)\n",
      "           ^^^^^^^^^^^^^^^^^^\n",
      "  File \"/home/mo/.pyenv/versions/3.11.8/lib/python3.11/logging/__init__.py\", line 687, in format\n",
      "    record.message = record.getMessage()\n",
      "                     ^^^^^^^^^^^^^^^^^^^\n",
      "  File \"/home/mo/.pyenv/versions/3.11.8/lib/python3.11/logging/__init__.py\", line 377, in getMessage\n",
      "    msg = msg % self.args\n",
      "          ~~~~^~~~~~~~~~~\n",
      "TypeError: not all arguments converted during string formatting\n",
      "Call stack:\n",
      "  File \"<frozen runpy>\", line 198, in _run_module_as_main\n",
      "  File \"<frozen runpy>\", line 88, in _run_code\n",
      "  File \"/home/mo/.pyenv/versions/3.11.8/envs/delibenv/lib/python3.11/site-packages/ipykernel_launcher.py\", line 18, in <module>\n",
      "    app.launch_new_instance()\n",
      "  File \"/home/mo/.pyenv/versions/3.11.8/envs/delibenv/lib/python3.11/site-packages/traitlets/config/application.py\", line 1075, in launch_instance\n",
      "    app.start()\n",
      "  File \"/home/mo/.pyenv/versions/3.11.8/envs/delibenv/lib/python3.11/site-packages/ipykernel/kernelapp.py\", line 739, in start\n",
      "    self.io_loop.start()\n",
      "  File \"/home/mo/.pyenv/versions/3.11.8/envs/delibenv/lib/python3.11/site-packages/tornado/platform/asyncio.py\", line 205, in start\n",
      "    self.asyncio_loop.run_forever()\n",
      "  File \"/home/mo/.pyenv/versions/3.11.8/lib/python3.11/asyncio/base_events.py\", line 608, in run_forever\n",
      "    self._run_once()\n",
      "  File \"/home/mo/.pyenv/versions/3.11.8/envs/delibenv/lib/python3.11/site-packages/nest_asyncio.py\", line 133, in _run_once\n",
      "    handle._run()\n",
      "  File \"/home/mo/.pyenv/versions/3.11.8/lib/python3.11/asyncio/events.py\", line 84, in _run\n",
      "    self._context.run(self._callback, *self._args)\n",
      "  File \"/home/mo/.pyenv/versions/3.11.8/lib/python3.11/asyncio/tasks.py\", line 360, in __wakeup\n",
      "    self.__step()\n",
      "  File \"/home/mo/.pyenv/versions/3.11.8/lib/python3.11/asyncio/tasks.py\", line 277, in __step\n",
      "    result = coro.send(None)\n",
      "  File \"/home/mo/.pyenv/versions/3.11.8/envs/delibenv/lib/python3.11/site-packages/IPython/core/interactiveshell.py\", line 3334, in run_cell_async\n",
      "    has_raised = await self.run_ast_nodes(code_ast.body, cell_name,\n",
      "  File \"/home/mo/.pyenv/versions/3.11.8/envs/delibenv/lib/python3.11/site-packages/IPython/core/interactiveshell.py\", line 3517, in run_ast_nodes\n",
      "    if await self.run_code(code, result, async_=asy):\n",
      "  File \"/home/mo/.pyenv/versions/3.11.8/envs/delibenv/lib/python3.11/site-packages/IPython/core/interactiveshell.py\", line 3575, in run_code\n",
      "    await eval(code_obj, self.user_global_ns, self.user_ns)\n",
      "  File \"/tmp/ipykernel_4887/2743679753.py\", line 63, in <module>\n",
      "    await main()\n",
      "  File \"/tmp/ipykernel_4887/2743679753.py\", line 56, in main\n",
      "    thread, first_message = await create_casual_conversation(assistant_id)\n",
      "  File \"/home/mo/.pyenv/versions/3.11.8/envs/delibenv/lib/python3.11/site-packages/backoff/_async.py\", line 151, in retry\n",
      "    ret = await target(*args, **kwargs)\n",
      "  File \"/tmp/ipykernel_4887/2743679753.py\", line 49, in create_casual_conversation\n",
      "    logger.error(\"Failed to create casual conversation:\", e)\n",
      "Message: 'Failed to create casual conversation:'\n",
      "Arguments: (NameError(\"name 'get_casual_conversation' is not defined\"),)\n"
     ]
    }
   ],
   "source": [
    "import asyncio\n",
    "import logging\n",
    "import backoff\n",
    "from fastapi import HTTPException\n",
    "\n",
    "logger = logging.getLogger(__name__)\n",
    "\n",
    "@backoff.on_exception(backoff.expo, Exception, max_tries=5)\n",
    "async def create_casual_conversation(assistant):\n",
    "    \"\"\"\n",
    "    Takes assistant as input.\n",
    "    \n",
    "    Creates a new casual conversation thread.\n",
    "    \n",
    "    Returns the created thread and first message.\n",
    "    \"\"\"\n",
    "    try:\n",
    "        # Create a new conversation thread\n",
    "        thread = client.beta.threads.create(\n",
    "            messages=get_casual_conversation(),\n",
    "        )\n",
    "        logger.info(f\"Casual conversation thread created with ID: {thread.id}\")\n",
    "        \n",
    "        # Create and poll the run\n",
    "        run = client.beta.threads.runs.create(thread_id=thread.id, assistant_id=assistant)\n",
    "        logger.debug(f\"Casual conversation run created with ID: {run.id}\")\n",
    "\n",
    "        # Polling for the run status to be completed\n",
    "        max_retries = 10\n",
    "        retry_count = 0\n",
    "        while run.status != 'completed' and retry_count < max_retries:\n",
    "            logger.info(f\"Run status: {run.status}, retrying in 2 seconds...\")\n",
    "            await asyncio.sleep(2)\n",
    "            run = client.beta.threads.runs.get(run.id)\n",
    "            retry_count += 1\n",
    "\n",
    "        if run.status == 'completed':\n",
    "            logger.debug(\"Run status is completed\")\n",
    "            messages = client.beta.threads.messages.list(thread_id=thread.id)\n",
    "            logger.debug(f\"Messages: {messages}\")\n",
    "            first_message = messages.data[0].content[0].text.value\n",
    "            logger.debug(\"First message: %s\", first_message)\n",
    "            return thread, first_message\n",
    "        else:\n",
    "            logger.error(f\"Run did not complete after {max_retries} retries. Final status: {run.status}\")\n",
    "            raise HTTPException(status_code=500, detail=f\"Run did not complete in the expected time frame. Final status: {run.status}\")\n",
    "\n",
    "    except Exception as e:\n",
    "        logger.error(\"Failed to create casual conversation:\", e)\n",
    "        raise HTTPException(status_code=500, detail=f\"Failed to create casual conversation: {str(e)}\")\n",
    "\n",
    "# Example usage within an async function\n",
    "async def main():\n",
    "    assistant_id = \"your_assistant_id\"\n",
    "    try:\n",
    "        thread, first_message = await create_casual_conversation(assistant_id)\n",
    "        print(\"Thread ID:\", thread.id)\n",
    "        print(\"First Message:\", first_message)\n",
    "    except HTTPException as e:\n",
    "        print(e.detail)\n",
    "\n",
    "# Run the main function\n",
    "await main()\n"
   ]
  },
  {
   "cell_type": "code",
   "execution_count": 28,
   "metadata": {},
   "outputs": [
    {
     "name": "stdout",
     "output_type": "stream",
     "text": [
      "Requirement already satisfied: nest_asyncio in /home/mo/.pyenv/versions/3.11.8/envs/delibenv/lib/python3.11/site-packages (1.6.0)\n"
     ]
    }
   ],
   "source": [
    "!pip install nest_asyncio\n"
   ]
  },
  {
   "cell_type": "code",
   "execution_count": null,
   "metadata": {},
   "outputs": [],
   "source": []
  }
 ],
 "metadata": {
  "kernelspec": {
   "display_name": "delibenv",
   "language": "python",
   "name": "python3"
  },
  "language_info": {
   "codemirror_mode": {
    "name": "ipython",
    "version": 3
   },
   "file_extension": ".py",
   "mimetype": "text/x-python",
   "name": "python",
   "nbconvert_exporter": "python",
   "pygments_lexer": "ipython3",
   "version": "3.11.8"
  }
 },
 "nbformat": 4,
 "nbformat_minor": 2
}
