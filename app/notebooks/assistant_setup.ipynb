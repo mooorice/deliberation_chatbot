{
 "cells": [
  {
   "cell_type": "markdown",
   "metadata": {},
   "source": [
    "## Setup"
   ]
  },
  {
   "cell_type": "code",
   "execution_count": 1,
   "metadata": {},
   "outputs": [],
   "source": [
    "from openai import OpenAI\n",
    "import backoff\n",
    "from dotenv import load_dotenv\n",
    "import os\n",
    "from fastapi import HTTPException"
   ]
  },
  {
   "cell_type": "code",
   "execution_count": 2,
   "metadata": {},
   "outputs": [],
   "source": [
    "load_dotenv()\n",
    "client = OpenAI(api_key=os.getenv(\"OPENAI_API_KEY\"))"
   ]
  },
  {
   "cell_type": "markdown",
   "metadata": {},
   "source": [
    "## Checkers"
   ]
  },
  {
   "cell_type": "code",
   "execution_count": 15,
   "metadata": {},
   "outputs": [
    {
     "name": "stdout",
     "output_type": "stream",
     "text": [
      "SyncCursorPage[Assistant](data=[], object='list', first_id=None, last_id=None, has_more=False)\n"
     ]
    }
   ],
   "source": [
    "response = client.beta.assistants.list()\n",
    "print(response)"
   ]
  },
  {
   "cell_type": "code",
   "execution_count": 4,
   "metadata": {},
   "outputs": [
    {
     "ename": "IndexError",
     "evalue": "list index out of range",
     "output_type": "error",
     "traceback": [
      "\u001b[0;31m---------------------------------------------------------------------------\u001b[0m",
      "\u001b[0;31mIndexError\u001b[0m                                Traceback (most recent call last)",
      "Cell \u001b[0;32mIn[4], line 1\u001b[0m\n\u001b[0;32m----> 1\u001b[0m client\u001b[38;5;241m.\u001b[39mbeta\u001b[38;5;241m.\u001b[39massistants\u001b[38;5;241m.\u001b[39mdelete(\u001b[43mresponse\u001b[49m\u001b[38;5;241;43m.\u001b[39;49m\u001b[43mdata\u001b[49m\u001b[43m[\u001b[49m\u001b[38;5;241;43m0\u001b[39;49m\u001b[43m]\u001b[49m\u001b[38;5;241m.\u001b[39mid)\n",
      "\u001b[0;31mIndexError\u001b[0m: list index out of range"
     ]
    }
   ],
   "source": [
    "client.beta.assistants.delete(response.data[0].id)"
   ]
  },
  {
   "cell_type": "code",
   "execution_count": 31,
   "metadata": {},
   "outputs": [
    {
     "name": "stdout",
     "output_type": "stream",
     "text": [
      "[VectorStore(id='vs_HUKS7D5SN8RXlLn73N0ORdTp', created_at=1714130154, file_counts=FileCounts(cancelled=0, completed=1, failed=0, in_progress=0, total=1), last_active_at=1714130159, metadata={}, name='Party Positions', object='vector_store', status='completed', usage_bytes=169121, expires_after=None, expires_at=None)]\n"
     ]
    }
   ],
   "source": [
    "response = client.beta.vector_stores.list()\n",
    "print(response.data)"
   ]
  },
  {
   "cell_type": "code",
   "execution_count": 37,
   "metadata": {},
   "outputs": [
    {
     "data": {
      "text/plain": [
       "1"
      ]
     },
     "execution_count": 37,
     "metadata": {},
     "output_type": "execute_result"
    }
   ],
   "source": [
    "response.data[0].file_counts.completed"
   ]
  },
  {
   "cell_type": "code",
   "execution_count": 30,
   "metadata": {},
   "outputs": [
    {
     "data": {
      "text/plain": [
       "VectorStoreDeleted(id='vs_oWV03ZF99GGJJGnEM13hTyMh', deleted=True, object='vector_store.deleted')"
      ]
     },
     "execution_count": 30,
     "metadata": {},
     "output_type": "execute_result"
    }
   ],
   "source": [
    "client.beta.vector_stores.delete('vs_oWV03ZF99GGJJGnEM13hTyMh')"
   ]
  },
  {
   "cell_type": "markdown",
   "metadata": {},
   "source": [
    "## As in openai_assistant.py"
   ]
  },
  {
   "cell_type": "code",
   "execution_count": 3,
   "metadata": {},
   "outputs": [],
   "source": [
    "# Helper function to create an assistant, if not found\n",
    "@backoff.on_exception(backoff.expo, Exception, max_tries=5)\n",
    "async def create_assistant():\n",
    "    try:\n",
    "        # Making a call to create an assistant\n",
    "        assistant = client.beta.assistants.create(\n",
    "            name=\"Party Analyst Assistant\",\n",
    "            instructions=\"You are an expert political analyst. Use your knowledge base to answer questions about party positions.\",\n",
    "            model=\"gpt-4-turbo\",\n",
    "            tools=[{\"type\": \"file_search\"}],\n",
    "        )\n",
    "        print(f\"Assistant created with ID: {assistant.id}\")\n",
    "        return assistant\n",
    "    except Exception as e:\n",
    "        print(\"Failed to create assistant:\", e)\n",
    "        raise HTTPException(status_code=500, detail=f\"Failed to create assistant: {str(e)}\")\n"
   ]
  },
  {
   "cell_type": "code",
   "execution_count": 4,
   "metadata": {},
   "outputs": [],
   "source": [
    "# Helper function to get an assistant, returns the ID of the Political Analyst Assistant if found and creates a new one if not found\n",
    "@backoff.on_exception(backoff.expo, Exception, max_tries=5)\n",
    "async def get_assistant():\n",
    "    try:\n",
    "        # Making a call to list assistantsassistant\n",
    "        response = client.beta.assistants.list()  # Fetching all the assistants\n",
    "        if response and response.data:\n",
    "            for assistant in response.data:\n",
    "                if assistant.name == \"Party Analyst Assistant\":\n",
    "                    print(\"Party Analyst Assistant found.\")\n",
    "                    return assistant\n",
    "            # If no assistant found in the loop, create a new one\n",
    "            print(\"No Party Analyst Assistant found within, creating a new one...\")\n",
    "            return create_assistant()\n",
    "        else:\n",
    "            print(\"No assistants or data available or failed to fetch data, attempting to create a new assistant.\")\n",
    "            return create_assistant()\n",
    "    except Exception as e:\n",
    "        print(\"Failed to fetch assistants:\", e)\n",
    "        raise HTTPException(status_code=500, detail=f\"Failed to fetch assistants: {str(e)}\")\n"
   ]
  },
  {
   "cell_type": "code",
   "execution_count": 39,
   "metadata": {},
   "outputs": [],
   "source": [
    "# Helper function to ensure the vector store is attached to the assistant\n",
    "@backoff.on_exception(backoff.expo, Exception, max_tries=5)\n",
    "async def ensure_vector_store(assistant):\n",
    "    try:\n",
    "        # Check if the current assistant has the correct vector store attached\n",
    "        vector_store_ids = assistant.tool_resources.file_search.vector_store_ids if assistant.tool_resources and assistant.tool_resources.file_search else []\n",
    "\n",
    "        if vector_store_ids:\n",
    "            # Fetch the vector store details\n",
    "            vector_store = client.beta.vector_stores.retrieve(vector_store_id=vector_store_ids[0])\n",
    "            if vector_store and vector_store.name == \"Party Positions\":\n",
    "                print(\"Correct vector store already attached.\")\n",
    "                return vector_store\n",
    "            else:\n",
    "                print(\"Incorrect vector store attached, looking for correct vector store.\")\n",
    "        else:\n",
    "            print(\"No vector store attached, looking for correct vector store.\")\n",
    "\n",
    "        # If the correct vector store is not attached, check if such a store exists\n",
    "        all_stores = client.beta.vector_stores.list()\n",
    "        party_positions_store = next((store for store in all_stores.data if store.name == \"Party Positions\"), None)\n",
    "\n",
    "        if party_positions_store:\n",
    "            vector_store_id = party_positions_store.id\n",
    "            print(f\"Vector store 'Party Positions' found with ID: {vector_store_id}\")\n",
    "        else:\n",
    "            # Create a new vector store if not found\n",
    "            print(\"Creating new vector store 'Party Positions'\")\n",
    "            vector_store = client.beta.vector_stores.create(name=\"Party Positions\")\n",
    "            vector_store_id = vector_store.id\n",
    "\n",
    "            # Upload files to the new vector store\n",
    "            file_paths = [\"../data/party_positions.pdf\"] # File path to the PDF file\n",
    "            file_streams = [open(path, \"rb\") for path in file_paths]\n",
    "            file_batch = client.beta.vector_stores.file_batches.upload_and_poll(\n",
    "                vector_store_id=vector_store_id, files=file_streams\n",
    "            )\n",
    "            print(f\"Files uploaded to vector store: {file_batch.status}\")\n",
    "\n",
    "        # Attach the vector store to the assistant\n",
    "        updated_assistant = client.beta.assistants.update(\n",
    "            assistant_id=assistant.id,\n",
    "            tool_resources={\"file_search\": {\"vector_store_ids\": [vector_store_id]}}\n",
    "        )\n",
    "        print(f\"Vector store '{vector_store_id}' attached to assistant.\")\n",
    "        return vector_store\n",
    "\n",
    "    except Exception as e:\n",
    "        print(\"Failed to ensure vector store:\", e)\n",
    "        raise HTTPException(status_code=500, detail=f\"Failed to ensure vector store: {str(e)}\")\n"
   ]
  },
  {
   "cell_type": "code",
   "execution_count": 44,
   "metadata": {},
   "outputs": [],
   "source": [
    "# Main function to run the setup\n",
    "@backoff.on_exception(backoff.expo, Exception, max_tries=5)\n",
    "async def assistant_setup():\n",
    "    try:\n",
    "        # Step 1: Get or create the assistant\n",
    "        assistant = await get_assistant()\n",
    "        print(f\"Assistant retrieved or created with ID: {assistant.id}\")\n",
    "\n",
    "        # Step 2: Ensure the assistant has the correct vector store attached\n",
    "        vector_store = await ensure_vector_store(assistant)\n",
    "        print(f\"Assistant is now correctly configured with vector store ID: {vector_store.id}\")\n",
    "        \n",
    "        return assistant, vector_store\n",
    "\n",
    "    except Exception as e:\n",
    "        print(\"An error occurred in the main setup:\", e)\n",
    "        raise HTTPException(status_code=500, detail=str(e))"
   ]
  },
  {
   "cell_type": "code",
   "execution_count": 45,
   "metadata": {},
   "outputs": [
    {
     "name": "stdout",
     "output_type": "stream",
     "text": [
      "Party Analyst Assistant found.\n",
      "Assistant retrieved or created with ID: asst_Wy1Tf8cA3bwO3wu5iSCxmF8W\n",
      "Correct vector store already attached.\n",
      "Assistant is now correctly configured with vector store ID: vs_HUKS7D5SN8RXlLn73N0ORdTp\n"
     ]
    }
   ],
   "source": [
    "assistant, vector_store = await assistant_setup()"
   ]
  },
  {
   "cell_type": "markdown",
   "metadata": {},
   "source": [
    "## Not implemented yet"
   ]
  },
  {
   "cell_type": "code",
   "execution_count": 72,
   "metadata": {},
   "outputs": [],
   "source": [
    "async def setup_and_query_conversation(assistant, vector_store_id, conversation_history):\n",
    "    try:\n",
    "        # Create a thread to handle the conversation\n",
    "        thread = client.beta.threads.create(\n",
    "            messages=[{\n",
    "                \"role\": \"user\",\n",
    "                \"content\": f\"\"\"\n",
    "                            Your job is to analyze the given conversation, identify its topics and to give a thorough overview over the different party positions \n",
    "                            on all of the topics discussed in this conversation.\n",
    "                            First, anlyze the conversation and identify the topics discussed. \n",
    "                            Then, look through the provided information in the vector store to find the party positions on the discussed topics.\n",
    "                            Make sure to access and cite your knowledge base on party positions to provide the most accurate information. \n",
    "                            In the end, give a weighted, fair and balanced analysis of the different party positions on the discussed topics\n",
    "                            and discuss what party could represent the users interests the best. This is the conversation: {conversation_history}\"\"\"\n",
    "            }],\n",
    "            tool_resources={\n",
    "                \"file_search\": {\n",
    "                    \"vector_store_ids\": [vector_store_id]\n",
    "                }\n",
    "            }\n",
    "        )\n",
    "\n",
    "        # Create and poll run until terminal state is reached\n",
    "        run = client.beta.threads.runs.create_and_poll(\n",
    "            thread_id=thread.id, assistant_id=assistant.id\n",
    "        )\n",
    "\n",
    "        # Retrieve all messages from the run\n",
    "        messages = list(client.beta.threads.messages.list(thread_id=thread.id, run_id=run.id))\n",
    "\n",
    "        if not messages:\n",
    "            raise ValueError(\"No messages returned from the run.\")\n",
    "\n",
    "        # Assume first message contains the primary response\n",
    "        message_content = messages[0].content[0].text\n",
    "        annotations = message_content.annotations\n",
    "        citations = []\n",
    "        for index, annotation in enumerate(annotations):\n",
    "            message_content.value = message_content.value.replace(annotation.text, f\"[{index}]\")\n",
    "            if file_citation := getattr(annotation, \"file_citation\", None):\n",
    "                cited_file = client.files.retrieve(file_citation.file_id)\n",
    "                citations.append(f\"[{index}] {cited_file.filename}\")\n",
    "\n",
    "        return message_content.value, citations\n",
    "\n",
    "    except Exception as e:\n",
    "        print(f\"An error occurred: {str(e)}\")\n",
    "        # Handle specific exceptions or general exceptions and possibly retry or log errors\n",
    "\n"
   ]
  },
  {
   "cell_type": "code",
   "execution_count": 73,
   "metadata": {},
   "outputs": [],
   "source": [
    "conversation_history = \"\"\"\n",
    "\n",
    "Socrates: We meet today to discuss a matter of great importance—climate issues, which I understand you have particular views on. Could you begin by stating your position?\n",
    "\n",
    "Climate Skeptic: Certainly, Socrates. I believe the concern over climate change is overblown. The climate has always changed throughout history, and the current changes are part of a natural cycle, not primarily a result of human activities.\n",
    "\n",
    "Socrates: A fascinating point. If I understand correctly, you are suggesting that because changes have occurred naturally in the past, the current changes must also be natural. Could you clarify whether you believe humans have had no role in these changes?\n",
    "\n",
    "Climate Skeptic: Well, I wouldn't say no role at all, but the role is minimal. The main drivers are natural—volcanic activity, solar radiation, and variations in the Earth's orbit.\n",
    "\n",
    "Socrates: Intriguing. If humans have played even a minimal role, might it be important to understand that role more deeply? After all, even small causes can have large effects.\n",
    "\n",
    "Climate Skeptic: Perhaps, but the economic disruption from trying to change our energy use is too great based on such uncertain science.\n",
    "\n",
    "Socrates: Let us examine this uncertainty. Is it not the case that many uncertainties in life lead us to take precautions—insurance against risks, for instance?\n",
    "\n",
    "Climate Skeptic: That is true, but where do you draw the line? The costs of overhauling our industries and energy systems are enormous.\n",
    "\n",
    "Socrates: A wise point. Costs should indeed be weighed. Yet, if the risk is great, such as irreversible damage to our environment, should we not consider the cost of inaction to be potentially even greater? What do you think is the wise course of action when the stakes are the survival of certain ecosystems or even human lives?\n",
    "\n",
    "Climate Skeptic: The stakes are exaggerated. We adapt. Humans are resourceful.\n",
    "\n",
    "Socrates: Adaptation is a remarkable human trait. But is foresight not also wise? If we can foresee potential damage and prevent it, is that not preferable to adapting to a degraded world?\n",
    "\n",
    "Climate Skeptic: It might be, but the data must be irrefutable.\n",
    "\n",
    "Socrates: Indeed, the quest for knowledge is never-ending. Let us then agree that seeking clearer, irrefutable data is crucial. Meanwhile, might it also be wise to prepare modestly for the chance that the current consensus on climate change might be correct? After all, the virtue of prudence lies in balancing between different kinds of risks.\n",
    "\n",
    "Climate Skeptic: Perhaps a moderate approach might be reasonable.\n",
    "\n",
    "Socrates: Then let us continue this discourse, always questioning, always seeking the truth, and always ready to act wisely upon it, balancing both skepticism and the precautionary principle. Thank you for engaging in this reflective conversation.\n",
    "\n",
    "Climate Skeptic: Thank you, Socrates. It has given me much to think about.\n",
    "\n",
    "                        \"\"\"\n",
    "\n",
    "message, citations = await setup_and_query_conversation(assistant, vector_store.id, conversation_history)"
   ]
  },
  {
   "cell_type": "code",
   "execution_count": 75,
   "metadata": {},
   "outputs": [
    {
     "data": {
      "text/plain": [
       "['[0] party_positions.pdf',\n",
       " '[1] party_positions.pdf',\n",
       " '[2] party_positions.pdf',\n",
       " '[3] party_positions.pdf',\n",
       " '[4] party_positions.pdf',\n",
       " '[5] party_positions.pdf',\n",
       " '[6] party_positions.pdf',\n",
       " '[7] party_positions.pdf',\n",
       " '[8] party_positions.pdf']"
      ]
     },
     "execution_count": 75,
     "metadata": {},
     "output_type": "execute_result"
    }
   ],
   "source": [
    "citations"
   ]
  },
  {
   "cell_type": "code",
   "execution_count": 55,
   "metadata": {},
   "outputs": [
    {
     "name": "stdout",
     "output_type": "stream",
     "text": [
      "In Germany, views on immigration and environmental policy can vary across different political parties. Here's a general insight into where some of the major German parties stand on these issues:\n",
      "\n",
      "1. **The Green Party (Die Grünen)**: This party prioritizes environmental issues strongly, advocating for sustainable practices and policies to combat climate change. However, the Greens are generally pro-immigration and support policies that provide protection to refugees and facilitate the integration of immigrants.\n",
      "\n",
      "2. **Alternative for Germany (AfD)**: This party aligns more with the view you've expressed. The AfD is known for its skeptical stance on immigration, arguing that Germany cannot handle high levels of immigration. They also address environmental issues but are not as focused or progressive on them as the Greens. They tend to prioritize nationalist and conservative values, including more restrictive immigration policies.\n",
      "\n",
      "3. **Christian Democratic Union (CDU)**: Traditionally, the CDU has a moderate view on immigration, supporting regulated immigration but also advocating for integration measures. On environmental issues, they take a conservative but practical approach, supporting sustainable policies but balancing them with economic considerations.\n",
      "\n",
      "4. **Social Democratic Party of Germany (SPD)**: The SPD supports fair immigration policies that include integration programs. They are also committed to environmental protection but often seek socially balanced solutions that consider the impacts on all population groups.\n",
      "\n",
      "If your primary concern is limiting immigration due to environmental reasons, the AfD might be the closest match based on their restrictive stand on immigration. However, it's important to carefully consider all aspects of the party's platform, as their environmental policies might not be as progressive or prioritized as those of other parties like The Greens. Each party's stance can also shift depending on current leadership and recent policy platforms, so reviewing recent political manifestos or statements can provide more specific guidance.\n",
      "\n"
     ]
    }
   ],
   "source": [
    "# Use the create and poll SDK helper to create a run and poll the status of \n",
    "# the run until it's in a terminal state.\n",
    "\n",
    "run = client.beta.threads.runs.create_and_poll(\n",
    "    thread_id=thread.id, assistant_id=assistant.id\n",
    ")\n",
    "\n",
    "messages = list(client.beta.threads.messages.list(thread_id=thread.id, run_id=run.id))\n",
    "\n",
    "message_content = messages[0].content[0].text\n",
    "annotations = message_content.annotations\n",
    "citations = []\n",
    "for index, annotation in enumerate(annotations):\n",
    "    message_content.value = message_content.value.replace(annotation.text, f\"[{index}]\")\n",
    "    if file_citation := getattr(annotation, \"file_citation\", None):\n",
    "        cited_file = client.files.retrieve(file_citation.file_id)\n",
    "        citations.append(f\"[{index}] {cited_file.filename}\")\n",
    "\n",
    "print(message_content.value)\n",
    "print(\"\\n\".join(citations))"
   ]
  },
  {
   "cell_type": "code",
   "execution_count": 61,
   "metadata": {},
   "outputs": [
    {
     "data": {
      "text/plain": [
       "\"In Germany, views on immigration and environmental policy can vary across different political parties. Here's a general insight into where some of the major German parties stand on these issues:\\n\\n1. **The Green Party (Die Grünen)**: This party prioritizes environmental issues strongly, advocating for sustainable practices and policies to combat climate change. However, the Greens are generally pro-immigration and support policies that provide protection to refugees and facilitate the integration of immigrants.\\n\\n2. **Alternative for Germany (AfD)**: This party aligns more with the view you've expressed. The AfD is known for its skeptical stance on immigration, arguing that Germany cannot handle high levels of immigration. They also address environmental issues but are not as focused or progressive on them as the Greens. They tend to prioritize nationalist and conservative values, including more restrictive immigration policies.\\n\\n3. **Christian Democratic Union (CDU)**: Traditionally, the CDU has a moderate view on immigration, supporting regulated immigration but also advocating for integration measures. On environmental issues, they take a conservative but practical approach, supporting sustainable policies but balancing them with economic considerations.\\n\\n4. **Social Democratic Party of Germany (SPD)**: The SPD supports fair immigration policies that include integration programs. They are also committed to environmental protection but often seek socially balanced solutions that consider the impacts on all population groups.\\n\\nIf your primary concern is limiting immigration due to environmental reasons, the AfD might be the closest match based on their restrictive stand on immigration. However, it's important to carefully consider all aspects of the party's platform, as their environmental policies might not be as progressive or prioritized as those of other parties like The Greens. Each party's stance can also shift depending on current leadership and recent policy platforms, so reviewing recent political manifestos or statements can provide more specific guidance.\""
      ]
     },
     "execution_count": 61,
     "metadata": {},
     "output_type": "execute_result"
    }
   ],
   "source": [
    "message_content.value"
   ]
  }
 ],
 "metadata": {
  "kernelspec": {
   "display_name": "delibenv",
   "language": "python",
   "name": "python3"
  },
  "language_info": {
   "codemirror_mode": {
    "name": "ipython",
    "version": 3
   },
   "file_extension": ".py",
   "mimetype": "text/x-python",
   "name": "python",
   "nbconvert_exporter": "python",
   "pygments_lexer": "ipython3",
   "version": "3.11.8"
  }
 },
 "nbformat": 4,
 "nbformat_minor": 2
}
